{
 "cells": [
  {
   "cell_type": "markdown",
   "id": "00f4b689",
   "metadata": {},
   "source": [
    "## Imports and Functions"
   ]
  },
  {
   "cell_type": "code",
   "execution_count": 1,
   "id": "948759c7",
   "metadata": {},
   "outputs": [],
   "source": [
    "import tensorflow as tf\n",
    "from skimage.transform import resize\n",
    "import numpy as np\n",
    "from sklearn.preprocessing import OneHotEncoder\n",
    "import matplotlib.pyplot as plt\n",
    "import matplotlib.cm as cm\n",
    "from IPython.display import Image, display\n",
    "import cv2\n",
    "from tensorflow.keras.models import Model\n",
    "from skimage.util import random_noise\n",
    "from ipywidgets import interact\n",
    "import json\n",
    "import os\n",
    "import warnings\n",
    "warnings.filterwarnings(\"ignore\")"
   ]
  },
  {
   "cell_type": "code",
   "execution_count": 2,
   "id": "a8af7998",
   "metadata": {},
   "outputs": [],
   "source": [
    "def model_training(train_X,train_y,test_X,test_y,epochs=5):\n",
    "    model = tf.keras.applications.VGG16(\n",
    "        include_top=False,\n",
    "        weights=\"imagenet\",\n",
    "        input_tensor=None,\n",
    "        input_shape=(64,64,3),   \n",
    "    )\n",
    "    gm = tf.keras.layers.GlobalMaxPooling2D()(model.output)\n",
    "    dense1 =tf.keras.layers.Dense(512,activation='relu')(gm)\n",
    "    dense2 =tf.keras.layers.Dense(256,activation='relu')(dense1)\n",
    "    dense3 =tf.keras.layers.Dense(128,activation='relu')(dense2)\n",
    "    dense4 =tf.keras.layers.Dense(64,activation='relu')(dense3)\n",
    "    output =tf.keras.layers.Dense(10,activation='softmax')(dense4)\n",
    "    mnist_model = tf.keras.models.Model(inputs = model.input , outputs = output)\n",
    "    mnist_model.compile(loss='CategoricalCrossentropy',optimizer='adam',metrics=['accuracy'])\n",
    "    history= mnist_model.fit(x=train_X, y=train_y, validation_data=(test_X,test_y),epochs=epochs,batch_size=512)\n",
    "    return mnist_model"
   ]
  },
  {
   "cell_type": "code",
   "execution_count": 3,
   "id": "613d85a7",
   "metadata": {},
   "outputs": [],
   "source": [
    "def find_misclassifications(model,test_X,test_y):\n",
    "    predictions_normal= model.predict(test_X)\n",
    "    wrong_inputs_normal=[]\n",
    "    wrong_outputs_normal=[]\n",
    "    wrong_outputs_original_normal=[]\n",
    "    for i in range(len(predictions_normal)):\n",
    "        if np.argmax(test_y[i]) != np.argmax(predictions_normal[i]):\n",
    "            wrong_inputs_normal.append(test_X[i])\n",
    "            wrong_outputs_normal.append(np.argmax(predictions_normal[i]))\n",
    "            wrong_outputs_original_normal.append(np.argmax(test_y[i]) )\n",
    "    dic={}\n",
    "    for i in zip(wrong_outputs_normal,wrong_outputs_original_normal):\n",
    "        k=[int(i[0]),int(i[1])]\n",
    "        s=json.dumps(k)\n",
    "        try:\n",
    "            dic[s]+=1\n",
    "        except:\n",
    "            dic[s]=1\n",
    "    plt.figure(figsize=(25,10))\n",
    "    plt.bar(range(len(dic)), list(dic.values()), align='center')\n",
    "    plt.xticks(range(len(dic)), list(dic.keys()))\n",
    "    plt.xlabel('Misclassified Numbers')\n",
    "    plt.ylabel('Count')\n",
    "    plt.show()\n",
    "    return predictions_normal,wrong_inputs_normal,wrong_outputs_normal,wrong_outputs_original_normal,dic\n",
    "\n"
   ]
  },
  {
   "cell_type": "code",
   "execution_count": 4,
   "id": "642bc063",
   "metadata": {},
   "outputs": [],
   "source": [
    "def GradCam(model, img_array, layer_name, eps=1e-8):\n",
    "    gradModel = Model(\n",
    "\t\t\tinputs=[model.inputs],\n",
    "\t\t\toutputs=[model.get_layer(layer_name).output,\n",
    "\t\t\t\tmodel.output])\n",
    "    with tf.GradientTape() as tape:\n",
    "      inputs = tf.cast(img_array, tf.float32)\n",
    "      (convOutputs, predictions) = gradModel(inputs)\n",
    "      loss = predictions[:, 0]\n",
    "    grads = tape.gradient(loss, convOutputs)\n",
    "    castConvOutputs = tf.cast(convOutputs > 0, \"float32\")\n",
    "    castGrads = tf.cast(grads > 0, \"float32\")\n",
    "    guidedGrads = castConvOutputs * castGrads * grads\n",
    "    convOutputs = convOutputs[0]\n",
    "    guidedGrads = guidedGrads[0]\n",
    "    weights = tf.reduce_mean(guidedGrads, axis=(0, 1))\n",
    "    cam = tf.reduce_sum(tf.multiply(weights, convOutputs), axis=-1)\n",
    "    (w, h) = (img_array.shape[2], img_array.shape[1])\n",
    "    heatmap = cv2.resize(cam.numpy(), (w, h))\n",
    "    numer = heatmap - np.min(heatmap)\n",
    "    denom = (heatmap.max() - heatmap.min()) + eps\n",
    "    heatmap = numer / denom\n",
    "    return heatmap\n",
    "\n",
    "\n",
    "def sigmoid(x, a, b, c):\n",
    "    return c / (1 + np.exp(-a * (x-b)))\n",
    "\n",
    "def superimpose(img_bgr, cam, thresh, emphasize=False):\n",
    "    heatmap = cv2.resize(cam, (img_bgr.shape[1], img_bgr.shape[0]))\n",
    "    if emphasize:\n",
    "        heatmap = sigmoid(heatmap, 50, thresh, 1)\n",
    "    heatmap = np.uint8(255 * heatmap)\n",
    "    heatmap = cv2.applyColorMap(heatmap, cv2.COLORMAP_JET)\n",
    "    \n",
    "    hif = .8\n",
    "    superimposed_img = heatmap * hif + img_bgr\n",
    "    superimposed_img = np.minimum(superimposed_img, 255.0).astype(np.uint8)  # scale 0 to 255  \n",
    "    superimposed_img_rgb = cv2.cvtColor(superimposed_img, cv2.COLOR_BGR2RGB)\n",
    "    \n",
    "    return superimposed_img_rgb\n",
    "def fuse_layers(layers, model, img, emphasize=False):\n",
    "  cams = []\n",
    "  for layer in layers:\n",
    "    cam = GradCam(model, np.expand_dims(img, axis=0), layer)\n",
    "    cam = cv2.resize(cam, (img.shape[1], img.shape[0]))\n",
    "    cams.append(cam)\n",
    "\n",
    "  fused = np.mean(cams, axis=0)\n",
    "  superimposed = superimpose(img, fused, 0.1, emphasize=emphasize)\n",
    "  #cv2.imwrite('grad_new_vgg/'+count+'.jpg')\n",
    "  return superimposed,cams\n"
   ]
  },
  {
   "cell_type": "code",
   "execution_count": 5,
   "id": "5214396a",
   "metadata": {},
   "outputs": [],
   "source": [
    "def get_grad_array(arr,model=None,flag=0):\n",
    "    grads=[]\n",
    "    for image in arr:\n",
    "        \n",
    "        if flag==0:\n",
    "            sp,cams=fuse_layers(conv2D_layers,mnist_model,cv2.cvtColor(image.astype('float32'), cv2.COLOR_RGB2BGR))\n",
    "            #print(len(cams))\n",
    "            sp= np.mean(cams[-6:],axis=0)\n",
    "            \n",
    "        elif flag==1:\n",
    "            sp,cams=fuse_layers(conv2D_layers,mnist_model,cv2.cvtColor(image.astype('float32'), cv2.COLOR_RGB2BGR))\n",
    "        else:\n",
    "            cam = GradCam(model, np.expand_dims(image, axis=0), conv2D_layers[-1])\n",
    "            sp = superimpose(image, cam, 0.1, emphasize=False)\n",
    "        \n",
    "        grads.append(sp)\n",
    "    return grads"
   ]
  },
  {
   "cell_type": "code",
   "execution_count": 6,
   "id": "9f8b1da0",
   "metadata": {},
   "outputs": [],
   "source": [
    "def create_misc_array(x,y,wrong_inputs_normal,wrong_outputs_normal,wrong_outputs_original_normal):\n",
    "    m_arr=[]\n",
    "    for i in range(len(wrong_inputs_normal)):\n",
    "        if x==wrong_outputs_normal[i] and y ==wrong_outputs_original_normal[i]:\n",
    "            m_arr.append(wrong_inputs_normal[i])\n",
    "    return m_arr"
   ]
  },
  {
   "cell_type": "code",
   "execution_count": 113,
   "id": "da13df78",
   "metadata": {},
   "outputs": [],
   "source": [
    "def plot_misclassifications(n,arr,misc):\n",
    "        \n",
    "        columns= 5\n",
    "        rows=int(np.ceil(n/5))\n",
    "        fig = plt.figure(figsize=(20, 10))\n",
    "        plt.title(f\"Misclassification of {misc[1]} as {misc[0]}\")\n",
    "        k=0\n",
    "        for i in range(rows):\n",
    "            for j in range(columns):\n",
    "                if k<n:\n",
    "                    ax = fig.add_subplot(rows, columns, k+1)\n",
    "                    ax.imshow(arr[k]) \n",
    "                    ax.set_title(str(k))\n",
    "                    ax.axis('off')\n",
    "                    k+=1\n",
    "\n",
    "        \n",
    "        plt.show()"
   ]
  },
  {
   "cell_type": "code",
   "execution_count": 155,
   "id": "10987905",
   "metadata": {},
   "outputs": [],
   "source": [
    "def transform(data,noise=False,nt='s&p'):\n",
    "    nd=[]\n",
    "    for i in data:\n",
    "        i=cv2.resize(i,(64,64))\n",
    "        if noise==True:\n",
    "            if nt=='s&p':\n",
    "                x=np.random.randint(63,size=410)\n",
    "                y=np.random.randint(63,size=410)\n",
    "                z = np.random.randint(2,size=410)\n",
    "                for k in range(len(z)):\n",
    "                    if z[k] ==0:\n",
    "                        i[x[k]][y[k]]=0\n",
    "                    else:\n",
    "                        i[x[k]][y[k]]=255\n",
    "            else:\n",
    "                gaus=np.random.normal(0.1, 0.1, (64,64))\n",
    "                i=i+gaus\n",
    "                cv2.normalize(i,i,0, 255, cv2.NORM_MINMAX, dtype=-1)\n",
    "                i=i.astype(np.uint8)\n",
    "                \n",
    "            #i=random_noise(i, mode=nt)\n",
    "            \n",
    "        i = cv2.cvtColor(i,cv2.COLOR_GRAY2RGB)\n",
    "        #i/=255.\n",
    "        nd.append(i)\n",
    "    return np.array(nd)"
   ]
  },
  {
   "cell_type": "markdown",
   "id": "4d068729",
   "metadata": {},
   "source": [
    "## Loading Data"
   ]
  },
  {
   "cell_type": "code",
   "execution_count": 91,
   "id": "80aaca5b",
   "metadata": {},
   "outputs": [],
   "source": [
    "(train_X, train_y), (test_X, test_y)= tf.keras.datasets.mnist.load_data()\n",
    "train_X= transform(train_X)\n",
    "test_X= transform(test_X)\n"
   ]
  },
  {
   "cell_type": "code",
   "execution_count": 92,
   "id": "8863ab5c",
   "metadata": {},
   "outputs": [],
   "source": [
    "enc = OneHotEncoder(handle_unknown='ignore')\n",
    "enc.fit(train_y.reshape(-1,1))\n",
    "train_y=enc.transform(train_y.reshape(-1,1)).toarray()\n",
    "test_y=enc.transform(test_y.reshape(-1,1)).toarray()\n",
    "cats=enc.categories_"
   ]
  },
  {
   "cell_type": "markdown",
   "id": "17868154",
   "metadata": {},
   "source": [
    "## Normal Model"
   ]
  },
  {
   "cell_type": "code",
   "execution_count": 105,
   "id": "4761e3bf",
   "metadata": {},
   "outputs": [
    {
     "name": "stdout",
     "output_type": "stream",
     "text": [
      "Epoch 1/5\n",
      "118/118 [==============================] - 27s 226ms/step - loss: 2.5098 - accuracy: 0.1299 - val_loss: 2.2260 - val_accuracy: 0.1729\n",
      "Epoch 2/5\n",
      "118/118 [==============================] - 27s 227ms/step - loss: 1.1131 - accuracy: 0.6063 - val_loss: 0.3068 - val_accuracy: 0.9092\n",
      "Epoch 3/5\n",
      "118/118 [==============================] - 27s 227ms/step - loss: 0.1545 - accuracy: 0.9551 - val_loss: 0.0996 - val_accuracy: 0.9680\n",
      "Epoch 4/5\n",
      "118/118 [==============================] - 27s 228ms/step - loss: 0.0699 - accuracy: 0.9798 - val_loss: 0.0479 - val_accuracy: 0.9856\n",
      "Epoch 5/5\n",
      "118/118 [==============================] - 27s 231ms/step - loss: 0.0480 - accuracy: 0.9865 - val_loss: 0.0370 - val_accuracy: 0.9894\n"
     ]
    }
   ],
   "source": [
    "mnist_model=model_training(train_X,train_y,test_X,test_y)"
   ]
  },
  {
   "cell_type": "code",
   "execution_count": 95,
   "id": "94d9c31b",
   "metadata": {},
   "outputs": [
    {
     "data": {
      "image/png": "[encoded data removed]",
      "text/plain": [
       "<Figure size 1800x720 with 1 Axes>"
      ]
     },
     "metadata": {
      "needs_background": "light"
     },
     "output_type": "display_data"
    }
   ],
   "source": [
    "# Normal Misclasssifications\n",
    "predictions_normal,wrong_inputs_normal,wrong_outputs_normal,wrong_outputs_original_normal,dic=find_misclassifications(mnist_model,test_X,test_y)"
   ]
  },
  {
   "cell_type": "code",
   "execution_count": 96,
   "id": "b6fb9310",
   "metadata": {},
   "outputs": [
    {
     "data": {
      "text/plain": [
       "[('[8, 9]', 27), ('[4, 9]', 16), ('[2, 7]', 11), ('[1, 7]', 8), ('[8, 5]', 7)]"
      ]
     },
     "execution_count": 96,
     "metadata": {},
     "output_type": "execute_result"
    }
   ],
   "source": [
    "# Common Misclassifications\n",
    "ss=sorted(dic.items(), key = lambda kv: kv[1],reverse=True)\n",
    "ss[:5]"
   ]
  },
  {
   "cell_type": "code",
   "execution_count": 97,
   "id": "6ffd544a",
   "metadata": {},
   "outputs": [],
   "source": [
    "conv2D_layers = [layer.name for layer in reversed(mnist_model.layers) if len(layer.output_shape) == 4 and isinstance(layer, tf.keras.layers.Conv2D)]\n",
    "activation_layers = [layer.name for layer in reversed(mnist_model.layers) if len(layer.output_shape) == 4 and layer.__class__.__name__ == 'ReLU']\n",
    "all_layers = [layer.name for layer in reversed(mnist_model.layers) if len(layer.output_shape) == 4 and (layer.__class__.__name__ == 'ReLU' or isinstance(layer, tf.keras.layers.Conv2D))]"
   ]
  },
  {
   "cell_type": "code",
   "execution_count": 98,
   "id": "79df6518",
   "metadata": {},
   "outputs": [
    {
     "data": {
      "application/vnd.jupyter.widget-view+json": {
       "model_id": "d8a2a35907754f0fb830a725e0993446",
       "version_major": 2,
       "version_minor": 0
      },
      "text/plain": [
       "interactive(children=(Dropdown(description='misclass', options=(('[8, 9]', [8, 9]), ('[4, 9]', [4, 9]), ('[2, …"
      ]
     },
     "metadata": {},
     "output_type": "display_data"
    }
   ],
   "source": [
    "val=[(ss[i][0],json.loads(ss[i][0])) for i in range(len(ss))]\n",
    "\n",
    "@interact(misclass=val)\n",
    "def misclassification(misclass):\n",
    "    m_arr=create_misc_array(misclass[0],misclass[1],wrong_inputs_normal,wrong_outputs_normal,wrong_outputs_original_normal)\n",
    "    plot_misclassifications(len(m_arr),m_arr,misclass)\n",
    "    "
   ]
  },
  {
   "cell_type": "code",
   "execution_count": 99,
   "id": "d0214048",
   "metadata": {},
   "outputs": [
    {
     "data": {
      "application/vnd.jupyter.widget-view+json": {
       "model_id": "cf5ffa769b0a40dd8af74b8dfa589322",
       "version_major": 2,
       "version_minor": 0
      },
      "text/plain": [
       "interactive(children=(Dropdown(description='misclass', options=(('[8, 9]', [8, 9]), ('[4, 9]', [4, 9]), ('[2, …"
      ]
     },
     "metadata": {},
     "output_type": "display_data"
    }
   ],
   "source": [
    "val=[(ss[i][0],json.loads(ss[i][0])) for i in range(5)]\n",
    "\n",
    "@interact(misclass=val,flag={'-6':0,'all':1,'last':2})\n",
    "def misclassification(misclass,flag):\n",
    "    xx=get_grad_array(wrong_inputs_normal,mnist_model,flag)\n",
    "    m_arr=create_misc_array(misclass[0],misclass[1],xx,wrong_outputs_normal,wrong_outputs_original_normal)\n",
    "    plot_misclassifications(len(m_arr),m_arr,misclass)"
   ]
  },
  {
   "cell_type": "markdown",
   "id": "c72b6eb8",
   "metadata": {},
   "source": [
    "## Salt Model"
   ]
  },
  {
   "cell_type": "code",
   "execution_count": 106,
   "id": "bcb07ffb",
   "metadata": {},
   "outputs": [],
   "source": [
    "(train_X_n, train_y_n), (test_X_n, test_y_n)= tf.keras.datasets.mnist.load_data()\n",
    "train_X_salt= transform(train_X_n,noise=True)\n",
    "test_X_salt= transform(test_X_n,noise=True)\n",
    "enc = OneHotEncoder(handle_unknown='ignore')\n",
    "enc.fit(train_y_n.reshape(-1,1))\n",
    "train_y_salt=enc.transform(train_y_n.reshape(-1,1)).toarray()\n",
    "test_y_salt=enc.transform(test_y_n.reshape(-1,1)).toarray()\n",
    "cats=enc.categories_\n",
    "# train_X_salt = train_X\n",
    "# train_y_salt = train_y\n",
    "# test_X_salt = test_X\n",
    "# test_y_salt = test_y"
   ]
  },
  {
   "cell_type": "code",
   "execution_count": 107,
   "id": "eae2525c",
   "metadata": {},
   "outputs": [
    {
     "name": "stdout",
     "output_type": "stream",
     "text": [
      "[0. 0. 0. 0. 0. 1. 0. 0. 0. 0.]\n"
     ]
    },
    {
     "data": {
      "image/png": "[encoded data removed]",
      "text/plain": [
       "<Figure size 432x288 with 1 Axes>"
      ]
     },
     "metadata": {
      "needs_background": "light"
     },
     "output_type": "display_data"
    }
   ],
   "source": [
    "plt.imshow(train_X_salt[0])\n",
    "print(train_y_salt[0])"
   ]
  },
  {
   "cell_type": "code",
   "execution_count": 108,
   "id": "050d7f80",
   "metadata": {},
   "outputs": [
    {
     "name": "stdout",
     "output_type": "stream",
     "text": [
      "Epoch 1/10\n",
      "118/118 [==============================] - 27s 226ms/step - loss: 2.6467 - accuracy: 0.1506 - val_loss: 1.2202 - val_accuracy: 0.5755\n",
      "Epoch 2/10\n",
      "118/118 [==============================] - 27s 226ms/step - loss: 0.4716 - accuracy: 0.8460 - val_loss: 0.1969 - val_accuracy: 0.9414\n",
      "Epoch 3/10\n",
      "118/118 [==============================] - 27s 227ms/step - loss: 0.1172 - accuracy: 0.9650 - val_loss: 0.0888 - val_accuracy: 0.9740\n",
      "Epoch 4/10\n",
      "118/118 [==============================] - 27s 228ms/step - loss: 0.0703 - accuracy: 0.9791 - val_loss: 0.0708 - val_accuracy: 0.9796\n",
      "Epoch 5/10\n",
      "118/118 [==============================] - 27s 228ms/step - loss: 0.0560 - accuracy: 0.9839 - val_loss: 0.0574 - val_accuracy: 0.9839\n",
      "Epoch 6/10\n",
      "118/118 [==============================] - 27s 228ms/step - loss: 0.0438 - accuracy: 0.9870 - val_loss: 0.0480 - val_accuracy: 0.9861\n",
      "Epoch 7/10\n",
      "118/118 [==============================] - 27s 228ms/step - loss: 0.0343 - accuracy: 0.9896 - val_loss: 0.0470 - val_accuracy: 0.9855\n",
      "Epoch 8/10\n",
      "118/118 [==============================] - 27s 228ms/step - loss: 0.0268 - accuracy: 0.9920 - val_loss: 0.0395 - val_accuracy: 0.9872\n",
      "Epoch 9/10\n",
      "118/118 [==============================] - 30s 257ms/step - loss: 0.0249 - accuracy: 0.9923 - val_loss: 0.0374 - val_accuracy: 0.9900\n",
      "Epoch 10/10\n",
      "118/118 [==============================] - 27s 228ms/step - loss: 0.0245 - accuracy: 0.9926 - val_loss: 0.0517 - val_accuracy: 0.9844\n"
     ]
    }
   ],
   "source": [
    "mnist_sp_model=model_training(train_X_salt,train_y_salt,test_X_salt,test_y_salt,epochs=10)"
   ]
  },
  {
   "cell_type": "code",
   "execution_count": 109,
   "id": "ccd3b4aa",
   "metadata": {},
   "outputs": [
    {
     "data": {
      "image/png": "[encoded data removed]",
      "text/plain": [
       "<Figure size 1800x720 with 1 Axes>"
      ]
     },
     "metadata": {
      "needs_background": "light"
     },
     "output_type": "display_data"
    }
   ],
   "source": [
    "predictions_sp,wrong_inputs_sp,wrong_outputs_sp,wrong_outputs_original_sp,dic_sp=find_misclassifications(mnist_sp_model,test_X_salt,test_y_salt)"
   ]
  },
  {
   "cell_type": "code",
   "execution_count": 110,
   "id": "3b975dd2",
   "metadata": {},
   "outputs": [
    {
     "data": {
      "text/plain": [
       "[('[3, 8]', 24), ('[1, 2]', 15), ('[9, 8]', 12), ('[3, 5]', 10), ('[9, 4]', 8)]"
      ]
     },
     "execution_count": 110,
     "metadata": {},
     "output_type": "execute_result"
    }
   ],
   "source": [
    "ss=sorted(dic_sp.items(), key = lambda kv: kv[1],reverse=True)\n",
    "ss[:5]"
   ]
  },
  {
   "cell_type": "code",
   "execution_count": 114,
   "id": "3824b2df",
   "metadata": {},
   "outputs": [
    {
     "data": {
      "application/vnd.jupyter.widget-view+json": {
       "model_id": "94d0ab54a1a04997961a0a62a43505e5",
       "version_major": 2,
       "version_minor": 0
      },
      "text/plain": [
       "interactive(children=(Dropdown(description='misclass', options=(('[3, 8]', [3, 8]), ('[1, 2]', [1, 2]), ('[9, …"
      ]
     },
     "metadata": {},
     "output_type": "display_data"
    }
   ],
   "source": [
    "val=[(ss[i][0],json.loads(ss[i][0])) for i in range(len(ss))]\n",
    "\n",
    "@interact(misclass=val)\n",
    "def misclassification(misclass):\n",
    "    m_arr=create_misc_array(misclass[0],misclass[1],wrong_inputs_sp,wrong_outputs_sp,wrong_outputs_original_sp)\n",
    "    plot_misclassifications(len(m_arr),m_arr,misclass)"
   ]
  },
  {
   "cell_type": "code",
   "execution_count": 115,
   "id": "29a1c7b7",
   "metadata": {},
   "outputs": [
    {
     "data": {
      "application/vnd.jupyter.widget-view+json": {
       "model_id": "043c0cc3eca34c07b78c873fdc52f8ad",
       "version_major": 2,
       "version_minor": 0
      },
      "text/plain": [
       "interactive(children=(Dropdown(description='misclass', options=(('[3, 8]', [3, 8]), ('[1, 2]', [1, 2]), ('[9, …"
      ]
     },
     "metadata": {},
     "output_type": "display_data"
    }
   ],
   "source": [
    "val=[(ss[i][0],json.loads(ss[i][0])) for i in range(5)]\n",
    "\n",
    "@interact(misclass=val,flag={'-6':0,'all':1,'last':2})\n",
    "def misclassification(misclass,flag):\n",
    "    xx=get_grad_array(wrong_inputs_sp,mnist_model,flag)\n",
    "    m_arr=create_misc_array(misclass[0],misclass[1],xx,wrong_outputs_sp,wrong_outputs_original_sp)\n",
    "    plot_misclassifications(len(m_arr),m_arr,misclass)"
   ]
  },
  {
   "cell_type": "code",
   "execution_count": 116,
   "id": "22f89040",
   "metadata": {},
   "outputs": [],
   "source": [
    "def get_wrong_predictions(test_y,test_X,test_X_noise,predictions_normal,predictions_noise):\n",
    "    pred_ori=[]\n",
    "    pred_as=[]\n",
    "    norm_imgs=[]\n",
    "    noise_imgs=[]\n",
    "    for i in range(len(predictions_normal)):\n",
    "        if np.argmax(predictions_normal[i])== np.argmax(test_y[i]):\n",
    "            if np.argmax(predictions_normal[i]) != np.argmax(predictions_noise[i]):\n",
    "                pred_ori.append(np.argmax(test_y[i]))\n",
    "                pred_as.append(np.argmax(predictions_noise[i]))\n",
    "                norm_imgs.append(test_X[i])\n",
    "                noise_imgs.append(test_X_noise[i])\n",
    "    return pred_ori,pred_as,norm_imgs,noise_imgs\n",
    "    "
   ]
  },
  {
   "cell_type": "code",
   "execution_count": 117,
   "id": "cf0486d8",
   "metadata": {},
   "outputs": [],
   "source": [
    "pred_ori,pred_as,norm_imgs,noise_imgs=get_wrong_predictions(test_y,test_X,test_X_salt,predictions_normal,predictions_sp) "
   ]
  },
  {
   "cell_type": "code",
   "execution_count": 150,
   "id": "86f9b25c",
   "metadata": {},
   "outputs": [
    {
     "data": {
      "image/png": "[encoded data removed]",
      "text/plain": [
       "<Figure size 1800x720 with 1 Axes>"
      ]
     },
     "metadata": {
      "needs_background": "light"
     },
     "output_type": "display_data"
    }
   ],
   "source": [
    "dic={}\n",
    "for i in zip(pred_ori,pred_as):\n",
    "    k=[int(i[1]),int(i[0])]\n",
    "    s=json.dumps(k)\n",
    "    try:\n",
    "        dic[s]+=1\n",
    "    except:\n",
    "        dic[s]=1\n",
    "plt.figure(figsize=(25,10))\n",
    "plt.bar(range(len(dic)), list(dic.values()), align='center')\n",
    "plt.xticks(range(len(dic)), list(dic.keys()))\n",
    "plt.xlabel('Misclassified Numbers')\n",
    "plt.ylabel('Count')\n",
    "plt.show()"
   ]
  },
  {
   "cell_type": "code",
   "execution_count": 119,
   "id": "eea192eb",
   "metadata": {},
   "outputs": [],
   "source": [
    "ss=sorted(dic.items(), key = lambda kv: kv[1],reverse=True)"
   ]
  },
  {
   "cell_type": "code",
   "execution_count": 120,
   "id": "e38bc621",
   "metadata": {},
   "outputs": [
    {
     "data": {
      "text/plain": [
       "<matplotlib.image.AxesImage at 0x16cda9674f0>"
      ]
     },
     "execution_count": 120,
     "metadata": {},
     "output_type": "execute_result"
    },
    {
     "data": {
      "image/png": "[encoded data removed]",
      "text/plain": [
       "<Figure size 432x288 with 1 Axes>"
      ]
     },
     "metadata": {
      "needs_background": "light"
     },
     "output_type": "display_data"
    }
   ],
   "source": [
    "plt.imshow(np.concatenate((norm_imgs[1],noise_imgs[1]), axis = 1))"
   ]
  },
  {
   "cell_type": "code",
   "execution_count": 131,
   "id": "a223d71a",
   "metadata": {},
   "outputs": [],
   "source": [
    "import shutil\n",
    "shutil.rmtree('Error_images')\n",
    "os.mkdir('Error_images')\n",
    "for k in dic.keys():\n",
    "    os.mkdir('Error_images/'+k)"
   ]
  },
  {
   "cell_type": "code",
   "execution_count": 132,
   "id": "151ebe69",
   "metadata": {},
   "outputs": [],
   "source": [
    "import shutil\n",
    "shutil.rmtree('Error_images_grad')\n",
    "os.mkdir('Error_Images_grad')\n",
    "for k in dic.keys():\n",
    "    os.mkdir('Error_Images_grad/'+k)"
   ]
  },
  {
   "cell_type": "code",
   "execution_count": 133,
   "id": "394e6007",
   "metadata": {},
   "outputs": [],
   "source": [
    "count=0\n",
    "for i in range(len(norm_imgs)):\n",
    "    img_folder= json.dumps([int(pred_ori[i]),int(pred_as[i])])\n",
    "    conc_img=np.concatenate((norm_imgs[i]/255.,noise_imgs[i]/255.), axis = 1)\n",
    "    plt.imsave(os.path.join('Error_Images',img_folder,f'{count}.jpg'),conc_img)\n",
    "    count+=1"
   ]
  },
  {
   "cell_type": "markdown",
   "id": "2b23ce23",
   "metadata": {},
   "source": [
    "## Gaussian Model"
   ]
  },
  {
   "cell_type": "code",
   "execution_count": 149,
   "id": "c0ddeb34",
   "metadata": {},
   "outputs": [
    {
     "data": {
      "text/plain": [
       "<matplotlib.image.AxesImage at 0x1696b7d6b80>"
      ]
     },
     "execution_count": 149,
     "metadata": {},
     "output_type": "execute_result"
    },
    {
     "data": {
      "image/png": "[encoded data removed]",
      "text/plain": [
       "<Figure size 432x288 with 1 Axes>"
      ]
     },
     "metadata": {
      "needs_background": "light"
     },
     "output_type": "display_data"
    }
   ],
   "source": [
    "xxx=np.zeros((64,64,3),dtype=np.uint8)\n",
    "xxx[:,:,0]=train_X[0][:,:,0]+gaus\n",
    "xxx[:,:,1]=train_X[0][:,:,1]+gaus\n",
    "xxx[:,:,2]=train_X[0][:,:,2]+gaus\n",
    "cv2.normalize(xxx,xxx,0, 255, cv2.NORM_MINMAX, dtype=-1)\n",
    "plt.imshow(xxx)"
   ]
  },
  {
   "cell_type": "code",
   "execution_count": 156,
   "id": "3d08744c",
   "metadata": {},
   "outputs": [],
   "source": [
    "(train_X_n, train_y_n), (test_X_n, test_y_n)= tf.keras.datasets.mnist.load_data()\n",
    "train_X_gaus= transform(train_X_n,noise=True,nt='g')\n",
    "test_X_gaus= transform(test_X_n,noise=True,nt='g')\n",
    "enc = OneHotEncoder(handle_unknown='ignore')\n",
    "enc.fit(train_y_n.reshape(-1,1))\n",
    "train_y_gaus=enc.transform(train_y_n.reshape(-1,1)).toarray()\n",
    "test_y_gaus=enc.transform(test_y_n.reshape(-1,1)).toarray()"
   ]
  },
  {
   "cell_type": "code",
   "execution_count": 157,
   "id": "901990c7",
   "metadata": {},
   "outputs": [
    {
     "name": "stdout",
     "output_type": "stream",
     "text": [
      "Epoch 1/10\n",
      "118/118 [==============================] - 63s 527ms/step - loss: 2.3188 - accuracy: 0.2726 - val_loss: 0.7849 - val_accuracy: 0.7152\n",
      "Epoch 2/10\n",
      "118/118 [==============================] - 44s 374ms/step - loss: 0.3597 - accuracy: 0.8824 - val_loss: 0.1263 - val_accuracy: 0.9624\n",
      "Epoch 3/10\n",
      "118/118 [==============================] - 27s 227ms/step - loss: 0.0875 - accuracy: 0.9735 - val_loss: 0.0678 - val_accuracy: 0.9801\n",
      "Epoch 4/10\n",
      "118/118 [==============================] - 27s 227ms/step - loss: 0.0564 - accuracy: 0.9829 - val_loss: 0.0490 - val_accuracy: 0.9857\n",
      "Epoch 5/10\n",
      "118/118 [==============================] - 27s 228ms/step - loss: 0.0413 - accuracy: 0.9877 - val_loss: 0.0326 - val_accuracy: 0.9911\n",
      "Epoch 6/10\n",
      "118/118 [==============================] - 27s 228ms/step - loss: 0.0379 - accuracy: 0.9886 - val_loss: 0.0503 - val_accuracy: 0.9864\n",
      "Epoch 7/10\n",
      "118/118 [==============================] - 27s 228ms/step - loss: 0.0303 - accuracy: 0.9910 - val_loss: 0.0419 - val_accuracy: 0.9871\n",
      "Epoch 8/10\n",
      "118/118 [==============================] - 27s 228ms/step - loss: 0.0284 - accuracy: 0.9920 - val_loss: 0.0492 - val_accuracy: 0.9864\n",
      "Epoch 9/10\n",
      "118/118 [==============================] - 27s 228ms/step - loss: 0.0246 - accuracy: 0.9923 - val_loss: 0.0502 - val_accuracy: 0.9862\n",
      "Epoch 10/10\n",
      "118/118 [==============================] - 27s 228ms/step - loss: 0.0249 - accuracy: 0.9927 - val_loss: 0.0401 - val_accuracy: 0.9906\n"
     ]
    }
   ],
   "source": [
    "mnist_gaus_model=model_training(train_X_gaus,train_y_gaus,test_X_gaus,test_y_gaus,epochs=10)"
   ]
  },
  {
   "cell_type": "code",
   "execution_count": 159,
   "id": "6c786846",
   "metadata": {},
   "outputs": [
    {
     "data": {
      "image/png": "[encoded data removed]",
      "text/plain": [
       "<Figure size 1800x720 with 1 Axes>"
      ]
     },
     "metadata": {
      "needs_background": "light"
     },
     "output_type": "display_data"
    }
   ],
   "source": [
    "predictions_g,wrong_inputs_g,wrong_outputs_g,wrong_outputs_original_g,dic_g=find_misclassifications(mnist_gaus_model,test_X_gaus,test_y_gaus)"
   ]
  },
  {
   "cell_type": "code",
   "execution_count": 161,
   "id": "caac8a01",
   "metadata": {},
   "outputs": [],
   "source": [
    "pred_ori,pred_as,norm_imgs,noise_imgs=get_wrong_predictions(test_y,test_X,test_X_gaus,predictions_normal,predictions_g) "
   ]
  },
  {
   "cell_type": "code",
   "execution_count": 162,
   "id": "84f3730d",
   "metadata": {},
   "outputs": [
    {
     "data": {
      "image/png": "[encoded data removed]",
      "text/plain": [
       "<Figure size 1800x720 with 1 Axes>"
      ]
     },
     "metadata": {
      "needs_background": "light"
     },
     "output_type": "display_data"
    }
   ],
   "source": [
    "dic={}\n",
    "for i in zip(pred_ori,pred_as):\n",
    "    k=[int(i[1]),int(i[0])]\n",
    "    s=json.dumps(k)\n",
    "    try:\n",
    "        dic[s]+=1\n",
    "    except:\n",
    "        dic[s]=1\n",
    "plt.figure(figsize=(25,10))\n",
    "plt.bar(range(len(dic)), list(dic.values()), align='center')\n",
    "plt.xticks(range(len(dic)), list(dic.keys()))\n",
    "plt.xlabel('Misclassified Numbers')\n",
    "plt.ylabel('Count')\n",
    "plt.show()"
   ]
  },
  {
   "cell_type": "code",
   "execution_count": 163,
   "id": "8a71041b",
   "metadata": {},
   "outputs": [],
   "source": [
    "ss=sorted(dic.items(), key = lambda kv: kv[1],reverse=True)"
   ]
  },
  {
   "cell_type": "code",
   "execution_count": 166,
   "id": "1e90820b",
   "metadata": {},
   "outputs": [],
   "source": [
    "import shutil\n",
    "#shutil.rmtree('Error_images_grad_gaus')\n",
    "#shutil.rmtree('Error_images_gaus')\n",
    "os.mkdir('Error_Images_grad_gaus')\n",
    "for k in dic.keys():\n",
    "    os.mkdir('Error_Images_grad_gaus/'+k)\n",
    "os.mkdir('Error_Images_gaus')\n",
    "for k in dic.keys():\n",
    "    os.mkdir('Error_Images_gaus/'+k)"
   ]
  },
  {
   "cell_type": "code",
   "execution_count": 168,
   "id": "0c481a2b",
   "metadata": {},
   "outputs": [],
   "source": [
    "count=0\n",
    "for i in range(len(norm_imgs)):\n",
    "    img_folder= json.dumps([int(pred_as[i]),int(pred_ori[i])])\n",
    "    conc_img=np.concatenate((norm_imgs[i]/255.,noise_imgs[i]/255.), axis = 1)\n",
    "    plt.imsave(os.path.join('Error_Images_gaus',img_folder,f'{count}.jpg'),conc_img)\n",
    "    count+=1"
   ]
  },
  {
   "cell_type": "code",
   "execution_count": 169,
   "id": "163afc14",
   "metadata": {},
   "outputs": [],
   "source": [
    "count=0\n",
    "for i in range(len(norm_imgs)):\n",
    "    img_folder= json.dumps([int(pred_as[i]),int(pred_ori[i])])\n",
    "    sp_norm,cams_norm=fuse_layers(conv2D_layers,mnist_model,cv2.cvtColor(norm_imgs[i].astype('float32'), cv2.COLOR_RGB2BGR))\n",
    "    sp_noise,cams_noise=fuse_layers(conv2D_layers,mnist_model,cv2.cvtColor(noise_imgs[i].astype('float32'), cv2.COLOR_RGB2BGR))\n",
    "    conc_img=np.concatenate((sp_norm,sp_noise), axis = 1)\n",
    "    plt.imsave(os.path.join('Error_Images_grad_gaus',img_folder,f'{count}.jpg'),conc_img.astype(np.uint8))\n",
    "    count+=1"
   ]
  },
  {
   "cell_type": "code",
   "execution_count": null,
   "id": "1ef64e10",
   "metadata": {},
   "outputs": [],
   "source": []
  }
 ],
 "metadata": {
  "kernelspec": {
   "display_name": "Python 3 (ipykernel)",
   "language": "python",
   "name": "python3"
  },
  "language_info": {
   "codemirror_mode": {
    "name": "ipython",
    "version": 3
   },
   "file_extension": ".py",
   "mimetype": "text/x-python",
   "name": "python",
   "nbconvert_exporter": "python",
   "pygments_lexer": "ipython3",
   "version": "3.9.7"
  }
 },
 "nbformat": 4,
 "nbformat_minor": 5
}
